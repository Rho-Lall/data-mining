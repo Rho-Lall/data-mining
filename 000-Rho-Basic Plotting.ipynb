{
 "cells": [
  {
   "cell_type": "code",
   "execution_count": 1,
   "id": "thirty-display",
   "metadata": {},
   "outputs": [],
   "source": [
    "import pandas as pd"
   ]
  },
  {
   "cell_type": "markdown",
   "id": "burning-grove",
   "metadata": {},
   "source": [
    "# MatplotLib\n",
    "### \"Make easy things easy and hard things possible.\""
   ]
  },
  {
   "cell_type": "code",
   "execution_count": 2,
   "id": "decreased-acting",
   "metadata": {},
   "outputs": [],
   "source": [
    "import matplotlib.pyplot as plt\n",
    "%matplotlib inline"
   ]
  },
  {
   "cell_type": "markdown",
   "id": "secret-capture",
   "metadata": {},
   "source": [
    "### plot()\n",
    "- plot(kind='line') (default)\n",
    "- plot(kind='bar')\n",
    "- plot(kind='barh')\n",
    "- plot(kind='pie')\n",
    "\n",
    "- plot(color='red')\n",
    "- plot(figsize=(width, height) \n",
    "\n",
    "#### Colormaps\n",
    "- ##### Sequencial\n",
    "- ##### Diverging\n",
    "- ##### Qualitative\n",
    "- plot(colormap='') https://matplotlib.org/stable/tutorials/colors/colormaps.html"
   ]
  },
  {
   "cell_type": "code",
   "execution_count": 3,
   "id": "passive-disco",
   "metadata": {},
   "outputs": [],
   "source": [
    "#data.series.[boolean filter].plot();\n",
    "# the semicolon removes unneeded text"
   ]
  },
  {
   "cell_type": "markdown",
   "id": "democratic-quilt",
   "metadata": {},
   "source": [
    "# Seaborn\n",
    "\n",
    "- ### Seaborn is a compliment, not a substitute for matplotlib\n",
    "- ### Examples Gallery w/ code https://seaborn.pydata.org/examples/index.html"
   ]
  },
  {
   "cell_type": "code",
   "execution_count": 4,
   "id": "proper-romania",
   "metadata": {},
   "outputs": [],
   "source": [
    "import seaborn as sns"
   ]
  },
  {
   "cell_type": "code",
   "execution_count": null,
   "id": "useful-functionality",
   "metadata": {},
   "outputs": [],
   "source": [
    "#sns.countplot(x='series', data=dataset, hue='Categories(series)')"
   ]
  }
 ],
 "metadata": {
  "kernelspec": {
   "display_name": "Python 3",
   "language": "python",
   "name": "python3"
  },
  "language_info": {
   "codemirror_mode": {
    "name": "ipython",
    "version": 3
   },
   "file_extension": ".py",
   "mimetype": "text/x-python",
   "name": "python",
   "nbconvert_exporter": "python",
   "pygments_lexer": "ipython3",
   "version": "3.8.5"
  }
 },
 "nbformat": 4,
 "nbformat_minor": 5
}
