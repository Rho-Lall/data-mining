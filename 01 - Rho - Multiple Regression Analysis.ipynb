{
 "cells": [
  {
   "cell_type": "markdown",
   "metadata": {},
   "source": [
    "# Multiple Regression Analysis\n",
    "\n",
    "\"It is pointless to do with more what can be done with less.\" ~ William of Ockham\n",
    "\n",
    "\n",
    "\n",
    "## Definition:\n",
    "Linear regression tries to fit a line through a given set of points, choosing the best fit. The best fit is the line that minimizes the summed squared difference between the value dictated by the line for a certain value of x and its corresponding y values. Formally, machine learning indicates the correct expression for a linear regression as follows:\n",
    "\n",
    "$$Y_i = \\beta X_i + \\beta_0$$\n",
    "\n",
    "Here, again, X is a matrix of the predictors, β is a matrix of coefficients, and $ \\beta_0 $ is a constant value called the **bias**\n",
    "\n",
    "## Assumptions of a Multiple Regression Model\n",
    "\n",
    "## Benefits\n",
    "- It's easy to explain how it works to yourself, to the management, or to anyone\n",
    "- It's flexible in respect of your data problem, since it can handle numeric and probability estimates, ranking, and classification up to a large number of classes\n",
    "- It's fast to train, no matter what the amount of data you have to process\n",
    "- It's fast and easy to implement in any production environment\n",
    "- It's scalable to real-time response toward users\n",
    "\n",
    "## Calculation Steps\n",
    "\n",
    "## Input Values\n",
    "\n",
    "## Output Values\n",
    "\n",
    "## Interpretation of the Output (how to determine significance)\n",
    "\n",
    "### Regression Parameters\n",
    "\n",
    "### Residual Standard Errors\n",
    "**regression residual:** $e_i = Y_i - \\hat{Y}$\n",
    "\n",
    "**residual sum of squares:** $\\displaystyle\\sum_{i = 1}^n (Y_i - \\hat{Y})^2$\n",
    "* Other Names\n",
    "    * Sum of Squared Residuals for the Sample\n",
    "    * SSE\n",
    "    \n",
    "**residual degrees of freedom:** $n - p$\n",
    "* p: # of regression parameters\n",
    "* aka - error degrees of freedom\n",
    "\n",
    "## The Value of the Method\n",
    "\n",
    "### When to use it\n",
    "\n",
    "### How is it different from other methods\n"
   ]
  },
  {
   "cell_type": "code",
   "execution_count": 6,
   "metadata": {},
   "outputs": [],
   "source": [
    "from sklearn.datasets import fetch_california_housing\n",
    "from sklearn.datasets import load_boston\n",
    "boston = load_boston()\n",
    "california = fetch_california_housing()"
   ]
  },
  {
   "cell_type": "code",
   "execution_count": 9,
   "metadata": {},
   "outputs": [],
   "source": [
    "import numpy as np\n",
    "import pandas as pd\n",
    "import matplotlib.pyplot as plt\n",
    "import matplotlib as mpl\n",
    "\n",
    "%matplotlib inline"
   ]
  },
  {
   "cell_type": "code",
   "execution_count": 10,
   "metadata": {},
   "outputs": [],
   "source": [
    "dataset = pd.DataFrame(boston.data, columns=boston.feature_names)\n",
    "dataset['target'] = boston.target"
   ]
  },
  {
   "cell_type": "code",
   "execution_count": 12,
   "metadata": {},
   "outputs": [
    {
     "data": {
      "text/plain": [
       "22.532806324110677"
      ]
     },
     "execution_count": 12,
     "metadata": {},
     "output_type": "execute_result"
    }
   ],
   "source": [
    "#OLS is a simple model but not the simplest, using the mean is simpler.\n",
    "# we can estimate or predict the value of a home as the mean.\n",
    "mean_expected_value = dataset.target.mean()\n",
    "mean_expected_value"
   ]
  },
  {
   "cell_type": "code",
   "execution_count": 13,
   "metadata": {},
   "outputs": [
    {
     "name": "stdout",
     "output_type": "stream",
     "text": [
      "Sum of Squared Errors (SSE): 42716\n"
     ]
    }
   ],
   "source": [
    "# Calculate the error for each value in y, target\n",
    "Squared_errors = pd.Series(mean_expected_value - dataset['target'])**2\n",
    "SSE = np.sum(Squared_errors)\n",
    "print ('Sum of Squared Errors (SSE): %01.f' % SSE)"
   ]
  },
  {
   "cell_type": "code",
   "execution_count": 15,
   "metadata": {},
   "outputs": [
    {
     "data": {
      "image/png": "[encoded data removed]",
      "text/plain": [
       "<Figure size 432x288 with 1 Axes>"
      ]
     },
     "metadata": {
      "needs_background": "light"
     },
     "output_type": "display_data"
    }
   ],
   "source": [
    "# histogram of the errors shows how frequent certain errors are in respect of their values.\n",
    "# Most errors are around zero (there is a high density around that value).\n",
    "# In most cases the mean is a good approximation, (zero error) \n",
    "# some errors are really very far from the zero and they can attain considerable values\n",
    "# (errors are squared, the effect is emphasized). \n",
    "density_plot = Squared_errors.plot(kind='hist')"
   ]
  },
  {
   "cell_type": "code",
   "execution_count": 16,
   "metadata": {},
   "outputs": [
    {
     "data": {
      "text/html": [
       "<div>\n",
       "<style scoped>\n",
       "    .dataframe tbody tr th:only-of-type {\n",
       "        vertical-align: middle;\n",
       "    }\n",
       "\n",
       "    .dataframe tbody tr th {\n",
       "        vertical-align: top;\n",
       "    }\n",
       "\n",
       "    .dataframe thead th {\n",
       "        text-align: right;\n",
       "    }\n",
       "</style>\n",
       "<table border=\"1\" class=\"dataframe\">\n",
       "  <thead>\n",
       "    <tr style=\"text-align: right;\">\n",
       "      <th></th>\n",
       "      <th>CRIM</th>\n",
       "      <th>ZN</th>\n",
       "      <th>INDUS</th>\n",
       "      <th>CHAS</th>\n",
       "      <th>NOX</th>\n",
       "      <th>RM</th>\n",
       "      <th>AGE</th>\n",
       "      <th>DIS</th>\n",
       "      <th>RAD</th>\n",
       "      <th>TAX</th>\n",
       "      <th>PTRATIO</th>\n",
       "      <th>B</th>\n",
       "      <th>LSTAT</th>\n",
       "      <th>target</th>\n",
       "    </tr>\n",
       "  </thead>\n",
       "  <tbody>\n",
       "    <tr>\n",
       "      <th>0</th>\n",
       "      <td>0.00632</td>\n",
       "      <td>18.0</td>\n",
       "      <td>2.31</td>\n",
       "      <td>0.0</td>\n",
       "      <td>0.538</td>\n",
       "      <td>6.575</td>\n",
       "      <td>65.2</td>\n",
       "      <td>4.0900</td>\n",
       "      <td>1.0</td>\n",
       "      <td>296.0</td>\n",
       "      <td>15.3</td>\n",
       "      <td>396.90</td>\n",
       "      <td>4.98</td>\n",
       "      <td>24.0</td>\n",
       "    </tr>\n",
       "    <tr>\n",
       "      <th>1</th>\n",
       "      <td>0.02731</td>\n",
       "      <td>0.0</td>\n",
       "      <td>7.07</td>\n",
       "      <td>0.0</td>\n",
       "      <td>0.469</td>\n",
       "      <td>6.421</td>\n",
       "      <td>78.9</td>\n",
       "      <td>4.9671</td>\n",
       "      <td>2.0</td>\n",
       "      <td>242.0</td>\n",
       "      <td>17.8</td>\n",
       "      <td>396.90</td>\n",
       "      <td>9.14</td>\n",
       "      <td>21.6</td>\n",
       "    </tr>\n",
       "    <tr>\n",
       "      <th>2</th>\n",
       "      <td>0.02729</td>\n",
       "      <td>0.0</td>\n",
       "      <td>7.07</td>\n",
       "      <td>0.0</td>\n",
       "      <td>0.469</td>\n",
       "      <td>7.185</td>\n",
       "      <td>61.1</td>\n",
       "      <td>4.9671</td>\n",
       "      <td>2.0</td>\n",
       "      <td>242.0</td>\n",
       "      <td>17.8</td>\n",
       "      <td>392.83</td>\n",
       "      <td>4.03</td>\n",
       "      <td>34.7</td>\n",
       "    </tr>\n",
       "    <tr>\n",
       "      <th>3</th>\n",
       "      <td>0.03237</td>\n",
       "      <td>0.0</td>\n",
       "      <td>2.18</td>\n",
       "      <td>0.0</td>\n",
       "      <td>0.458</td>\n",
       "      <td>6.998</td>\n",
       "      <td>45.8</td>\n",
       "      <td>6.0622</td>\n",
       "      <td>3.0</td>\n",
       "      <td>222.0</td>\n",
       "      <td>18.7</td>\n",
       "      <td>394.63</td>\n",
       "      <td>2.94</td>\n",
       "      <td>33.4</td>\n",
       "    </tr>\n",
       "    <tr>\n",
       "      <th>4</th>\n",
       "      <td>0.06905</td>\n",
       "      <td>0.0</td>\n",
       "      <td>2.18</td>\n",
       "      <td>0.0</td>\n",
       "      <td>0.458</td>\n",
       "      <td>7.147</td>\n",
       "      <td>54.2</td>\n",
       "      <td>6.0622</td>\n",
       "      <td>3.0</td>\n",
       "      <td>222.0</td>\n",
       "      <td>18.7</td>\n",
       "      <td>396.90</td>\n",
       "      <td>5.33</td>\n",
       "      <td>36.2</td>\n",
       "    </tr>\n",
       "  </tbody>\n",
       "</table>\n",
       "</div>"
      ],
      "text/plain": [
       "      CRIM    ZN  INDUS  CHAS    NOX     RM   AGE     DIS  RAD    TAX  \\\n",
       "0  0.00632  18.0   2.31   0.0  0.538  6.575  65.2  4.0900  1.0  296.0   \n",
       "1  0.02731   0.0   7.07   0.0  0.469  6.421  78.9  4.9671  2.0  242.0   \n",
       "2  0.02729   0.0   7.07   0.0  0.469  7.185  61.1  4.9671  2.0  242.0   \n",
       "3  0.03237   0.0   2.18   0.0  0.458  6.998  45.8  6.0622  3.0  222.0   \n",
       "4  0.06905   0.0   2.18   0.0  0.458  7.147  54.2  6.0622  3.0  222.0   \n",
       "\n",
       "   PTRATIO       B  LSTAT  target  \n",
       "0     15.3  396.90   4.98    24.0  \n",
       "1     17.8  396.90   9.14    21.6  \n",
       "2     17.8  392.83   4.03    34.7  \n",
       "3     18.7  394.63   2.94    33.4  \n",
       "4     18.7  396.90   5.33    36.2  "
      ]
     },
     "execution_count": 16,
     "metadata": {},
     "output_type": "execute_result"
    }
   ],
   "source": [
    "dataset.head()"
   ]
  },
  {
   "cell_type": "markdown",
   "metadata": {},
   "source": [
    "In statistics, there is a measure that helps to measure how (in the sense of how much and in what direction) two variables relate to each other: correlation.\n",
    "\n",
    "In correlation, a few steps are to be considered. First, your variables have to be **standardized** (or your result won't be a correlation but a covariation, a measure of association that is affected by the scale of the variables you are working with)\n",
    "\n",
    "The formula for standardizing a variable:\n",
    "\n",
    "$$ x = \\frac{ x - \\bar{x}}{\\sigma x} $$"
   ]
  },
  {
   "cell_type": "code",
   "execution_count": 17,
   "metadata": {},
   "outputs": [],
   "source": [
    "# This can be achieved in Python using a simple function:\n",
    "def standardize(x):\n",
    "    return ((x-np.mean(x))/np.std(x))"
   ]
  },
  {
   "cell_type": "code",
   "execution_count": 21,
   "metadata": {},
   "outputs": [],
   "source": [
    "# This can also be done using the preprocessing module from sklearn\n",
    "from sklearn import preprocessing\n",
    "#dataset[['x']] = preprocessing.scale(model_data[['X']].astype('float64'))"
   ]
  },
  {
   "cell_type": "markdown",
   "metadata": {},
   "source": [
    "## Correlation\n",
    "\n",
    "We have a variable that we know should change with our target and we just need to measure it and extend our initial formula based on constant values with something else.\n",
    "\n",
    "In statistics, there is a measure that helps to measure how (in the sense of how much and in what direction) two variables relate to each other: correlation.\n",
    "\n",
    "In correlation, a few steps are to be considered. First, your variables have to be standardized (or your result won't be a correlation but a covariation, a measure of association that is affected by the scale of the variables you are working with).\n",
    "\n",
    "Pearson's correlation is really covariance calculated on standardized variables, so we define the correlation function as a wrapper of both the covariance and standardize ones (you can find all these functions ready to be imported from Scipy; we are actually recreating them here just to help you understand how they work):"
   ]
  },
  {
   "cell_type": "code",
   "execution_count": 22,
   "metadata": {},
   "outputs": [
    {
     "name": "stdout",
     "output_type": "stream",
     "text": [
      "Our correlation estimation: 0.69536\n",
      "Correlation from Scipy pearsonr estimation: 0.69536\n"
     ]
    }
   ],
   "source": [
    "def covariance(variable_1, variable_2, bias=0):\n",
    "    observations = float(len(variable_1))\n",
    "    return np.sum((variable_1 - np.mean(variable_1)) * (variable_2 - np.mean(variable_2))) \\\n",
    "        /(observations-min(bias,1))\n",
    "\n",
    "def standardize(variable):\n",
    "    return (variable - np.mean(variable)) / np.std(variable)\n",
    "\n",
    "def correlation(var1,var2,bias=0):\n",
    "    return covariance(standardize(var1), standardize(var2),bias)\n",
    "\n",
    "from scipy.stats.stats import pearsonr\n",
    "print ('Our correlation estimation: %0.5f' % (correlation(dataset['RM'], dataset['target'])))\n",
    "print ('Correlation from Scipy pearsonr estimation: %0.5f' % pearsonr(dataset['RM'], dataset['target'])[0])"
   ]
  },
  {
   "cell_type": "code",
   "execution_count": 26,
   "metadata": {},
   "outputs": [
    {
     "data": {
      "image/png": "[encoded data removed]",
      "text/plain": [
       "<Figure size 432x288 with 1 Axes>"
      ]
     },
     "metadata": {
      "needs_background": "light"
     },
     "output_type": "display_data"
    }
   ],
   "source": [
    "# Scatterplot\n",
    "x_range = [dataset['RM'].min(),dataset['RM'].max()]\n",
    "y_range = [dataset['target'].min(),dataset['target'].max()]\n",
    "scatter_plot = dataset.plot(kind='scatter', x='RM', y='target',xlim=x_range, ylim=y_range)\n",
    "meanY = scatter_plot.plot(x_range, [dataset['target'].mean(), dataset['target'].mean()], '--' , color='red', linewidth=1)\n",
    "meanX = scatter_plot.plot([dataset['RM'].mean(),dataset['RM'].mean()], y_range, '--', color='red', linewidth=1)"
   ]
  },
  {
   "cell_type": "markdown",
   "metadata": {},
   "source": [
    "## Regression with Statsmodels\n",
    "\n",
    "Statsmodels is a package designed with statistical analysis in mind; therefore, its function offers quite a rich output of statistical checks and information. Scalability is not an issue for the package; therefore, it is really a good starting point for learning, but is certainly not the optimal solution if you have to crunch quite large datasets (or even big data) because of its optimization algorithm.\n",
    "\n",
    "There are two different methods (two modules) to work out a linear regression with Statsmodels:\n",
    "- **statsmodels.api**: This works with distinct predictor and answer variables and requires you to define any transformation of the variables on the predictor variable, including adding the intercept\n",
    "- **statsmodels.formula.api**: This works in a similar way to R, allowing you to specify a functional form (the formula of the summation of the predictors)"
   ]
  },
  {
   "cell_type": "code",
   "execution_count": 27,
   "metadata": {},
   "outputs": [],
   "source": [
    "import statsmodels.api as sm\n",
    "import statsmodels.formula.api as smf"
   ]
  },
  {
   "cell_type": "code",
   "execution_count": 28,
   "metadata": {},
   "outputs": [],
   "source": [
    "y = dataset['target']\n",
    "X = dataset['RM']\n",
    "X = sm.add_constant(X)"
   ]
  },
  {
   "cell_type": "code",
   "execution_count": 29,
   "metadata": {},
   "outputs": [],
   "source": [
    "linear_regression = sm.OLS(y,X)"
   ]
  },
  {
   "cell_type": "code",
   "execution_count": 30,
   "metadata": {},
   "outputs": [],
   "source": [
    "fitted_model = linear_regression.fit()"
   ]
  },
  {
   "cell_type": "code",
   "execution_count": 31,
   "metadata": {},
   "outputs": [
    {
     "data": {
      "text/html": [
       "<table class=\"simpletable\">\n",
       "<caption>OLS Regression Results</caption>\n",
       "<tr>\n",
       "  <th>Dep. Variable:</th>         <td>target</td>      <th>  R-squared:         </th> <td>   0.484</td>\n",
       "</tr>\n",
       "<tr>\n",
       "  <th>Model:</th>                   <td>OLS</td>       <th>  Adj. R-squared:    </th> <td>   0.483</td>\n",
       "</tr>\n",
       "<tr>\n",
       "  <th>Method:</th>             <td>Least Squares</td>  <th>  F-statistic:       </th> <td>   471.8</td>\n",
       "</tr>\n",
       "<tr>\n",
       "  <th>Date:</th>             <td>Fri, 19 Mar 2021</td> <th>  Prob (F-statistic):</th> <td>2.49e-74</td>\n",
       "</tr>\n",
       "<tr>\n",
       "  <th>Time:</th>                 <td>20:34:40</td>     <th>  Log-Likelihood:    </th> <td> -1673.1</td>\n",
       "</tr>\n",
       "<tr>\n",
       "  <th>No. Observations:</th>      <td>   506</td>      <th>  AIC:               </th> <td>   3350.</td>\n",
       "</tr>\n",
       "<tr>\n",
       "  <th>Df Residuals:</th>          <td>   504</td>      <th>  BIC:               </th> <td>   3359.</td>\n",
       "</tr>\n",
       "<tr>\n",
       "  <th>Df Model:</th>              <td>     1</td>      <th>                     </th>     <td> </td>   \n",
       "</tr>\n",
       "<tr>\n",
       "  <th>Covariance Type:</th>      <td>nonrobust</td>    <th>                     </th>     <td> </td>   \n",
       "</tr>\n",
       "</table>\n",
       "<table class=\"simpletable\">\n",
       "<tr>\n",
       "    <td></td>       <th>coef</th>     <th>std err</th>      <th>t</th>      <th>P>|t|</th>  <th>[0.025</th>    <th>0.975]</th>  \n",
       "</tr>\n",
       "<tr>\n",
       "  <th>const</th> <td>  -34.6706</td> <td>    2.650</td> <td>  -13.084</td> <td> 0.000</td> <td>  -39.877</td> <td>  -29.465</td>\n",
       "</tr>\n",
       "<tr>\n",
       "  <th>RM</th>    <td>    9.1021</td> <td>    0.419</td> <td>   21.722</td> <td> 0.000</td> <td>    8.279</td> <td>    9.925</td>\n",
       "</tr>\n",
       "</table>\n",
       "<table class=\"simpletable\">\n",
       "<tr>\n",
       "  <th>Omnibus:</th>       <td>102.585</td> <th>  Durbin-Watson:     </th> <td>   0.684</td> \n",
       "</tr>\n",
       "<tr>\n",
       "  <th>Prob(Omnibus):</th> <td> 0.000</td>  <th>  Jarque-Bera (JB):  </th> <td> 612.449</td> \n",
       "</tr>\n",
       "<tr>\n",
       "  <th>Skew:</th>          <td> 0.726</td>  <th>  Prob(JB):          </th> <td>1.02e-133</td>\n",
       "</tr>\n",
       "<tr>\n",
       "  <th>Kurtosis:</th>      <td> 8.190</td>  <th>  Cond. No.          </th> <td>    58.4</td> \n",
       "</tr>\n",
       "</table><br/><br/>Notes:<br/>[1] Standard Errors assume that the covariance matrix of the errors is correctly specified."
      ],
      "text/plain": [
       "<class 'statsmodels.iolib.summary.Summary'>\n",
       "\"\"\"\n",
       "                            OLS Regression Results                            \n",
       "==============================================================================\n",
       "Dep. Variable:                 target   R-squared:                       0.484\n",
       "Model:                            OLS   Adj. R-squared:                  0.483\n",
       "Method:                 Least Squares   F-statistic:                     471.8\n",
       "Date:                Fri, 19 Mar 2021   Prob (F-statistic):           2.49e-74\n",
       "Time:                        20:34:40   Log-Likelihood:                -1673.1\n",
       "No. Observations:                 506   AIC:                             3350.\n",
       "Df Residuals:                     504   BIC:                             3359.\n",
       "Df Model:                           1                                         \n",
       "Covariance Type:            nonrobust                                         \n",
       "==============================================================================\n",
       "                 coef    std err          t      P>|t|      [0.025      0.975]\n",
       "------------------------------------------------------------------------------\n",
       "const        -34.6706      2.650    -13.084      0.000     -39.877     -29.465\n",
       "RM             9.1021      0.419     21.722      0.000       8.279       9.925\n",
       "==============================================================================\n",
       "Omnibus:                      102.585   Durbin-Watson:                   0.684\n",
       "Prob(Omnibus):                  0.000   Jarque-Bera (JB):              612.449\n",
       "Skew:                           0.726   Prob(JB):                    1.02e-133\n",
       "Kurtosis:                       8.190   Cond. No.                         58.4\n",
       "==============================================================================\n",
       "\n",
       "Notes:\n",
       "[1] Standard Errors assume that the covariance matrix of the errors is correctly specified.\n",
       "\"\"\""
      ]
     },
     "execution_count": 31,
     "metadata": {},
     "output_type": "execute_result"
    }
   ],
   "source": [
    "fitted_model.summary()"
   ]
  },
  {
   "cell_type": "markdown",
   "metadata": {},
   "source": [
    "## Output\n",
    "\n",
    "The first table is divided into two columns. The first one contains a description of the fitted model:\n",
    "\n",
    "**Dep. Variable**: It just reminds you what the target variable was\n",
    "\n",
    "**Model**: Another reminder of the model that you have fitted, the OLS is ordinary least squares, another way to refer to linear regression\n",
    "\n",
    "**Method**: The parameters fitting method (in this case least squares, the classical computation method)\n",
    "\n",
    "**No. Observations**: The number of observations that have been used\n",
    "\n",
    "**DF Residuals**: The degrees of freedom of the residuals, which is the number of observations minus the number of parameters\n",
    "\n",
    "**DF Model**: The number of estimated parameters in the model (excluding the constant term from the count)\n",
    "\n",
    "The second table gives a more interesting picture, focusing how good the fit of the linear regression model is and pointing out any possible problems with the model:\n",
    "\n",
    "**R-squared**: This is the coefficient of determination, a measure of how well the regression does with respect to a simple mean by providing you with a percentage of the unexplained variance of a mean as a predictor that actually your model was able to explain.\n",
    "\n",
    "**Adj. R-squared**: This is the coefficient of determination adjusted based on the number of parameters in a model and the number of observations that helped build it.\n",
    "\n",
    "**F-statistic**: This is a measure telling you if, from a statistical point of view, all your coefficients, apart from the bias and taken together, are different from zero. In simple words, it tells you if your regression is really better than a simple average.\n",
    "\n",
    "**Prob (F-statistic)**: This is the probability that you got that F-statistic just by lucky chance due to the observations that you have used (such a probability is actually called the p-value of F-statistic). If it is low enough you can be confident that your regression is really better than a simple mean. Usually in statistics and science a test probability has to be equal or lower than 0.05 (a conventional criterion of statistical significance) for having such a confidence.\n",
    "\n",
    "**AIC**: This is the Akaike Information Criterion. AIC is a score that evaluates the model based on the number of observations and the complexity of the model itself. The lesser the AIC score, the better. It is very useful for comparing different models and for statistical variable selection.\n",
    "\n",
    "**BIC**: This is the Bayesian Information Criterion. It works as AIC, but it presents a higher penalty for models with more parameters.\n",
    "\n",
    "The second output table informs us about the coefficients and provides us with a series of tests. These tests can make us confident that we have not been fooled by a few extreme observations in the foundations of our analysis or by some other problem:\n",
    "\n",
    "**coef**: The estimated coefficient\n",
    "\n",
    "**std err**: The standard error of the estimate of the coefficient; the larger it is, the more uncertain the estimation of the coefficient\n",
    "\n",
    "**t**: The t-statistic value, a measure indicating whether the coefficient true value is different from zero\n",
    "\n",
    "**P > |t|**: The p-value indicating the probability that the coefficient is different from zero just by chance\n",
    "\n",
    "**[95.0% Conf. Interval]**: The lower and upper values of the coefficient, considering 95% of all the chances of having different observations and so different estimated coefficients\n",
    "\n",
    "### Evaluating the fitted values\n",
    " \n",
    "The last table deals with an analysis of the residuals of the regression. The residuals are the difference between the target values and the predicted fitted values:\n",
    "\n",
    "**Skewness**: This is a measure of the symmetry of the residuals around the mean. For symmetric distributed residuals, the value should be around zero. A positive value indicates a long tail to the right; a negative value a long tail to the left.\n",
    "\n",
    "**Kurtosis**: This is a measure of the shape of the distribution of the residuals. A bell-shaped distribution has a measure of 3. A lower value points to a too flat distribution; a positive one has too great a peak.\n",
    "\n",
    "**Omnibus D'Angostino's test**: This is a combined statistical test for skewness and kurtosis.\n",
    "\n",
    "**Prob(Omnibus)**: This is the Omnibus statistic turned into a probability.\n",
    "\n",
    "**Jarque-Bera**: This is another test of skewness and kurtosis.\n",
    "\n",
    "**Prob (JB)**: This is the JB statistic turned into a probability.\n",
    "\n",
    "**Durbin-Watson**: This is a test for the presence of correlation among the residuals (relevant during analysis of time-based data).\n",
    "\n",
    "**Cond. No**: This is a test for multicollinearity.\n",
    "\n",
    "A close analysis of residuals is quite relevant in statistical practice since it can highlight the presence of serious problems with regression analysis. In particular, it is important to keep an eye out for any of these three problems showing up:\n",
    "\n",
    "- Values too far from the average. Large standardized residuals hint at a serious difficulty when modeling such observations. Also, in the process of learning these values, the regression coefficients may have been distorted.\n",
    "- Different variance in respect of the value of the predictor. If the linear regression is an average conditioned on the predictor, dishomogeneous variance points out that the regression is not working properly when the predictor has certain values.\n",
    "- Strange shapes in the cloud of residual points may indicate that you need a more complex model for the data you are analyzing."
   ]
  },
  {
   "cell_type": "code",
   "execution_count": 32,
   "metadata": {},
   "outputs": [],
   "source": [
    "betas = np.array(fitted_model.params)\n",
    "fitted_values = fitted_model.predict(X)"
   ]
  },
  {
   "cell_type": "code",
   "execution_count": 33,
   "metadata": {},
   "outputs": [],
   "source": [
    "residuals = dataset['target']-fitted_values\n",
    "normalized_residuals = standardize(residuals)"
   ]
  },
  {
   "cell_type": "code",
   "execution_count": 35,
   "metadata": {},
   "outputs": [
    {
     "data": {
      "image/png": "[encoded data removed]",
      "text/plain": [
       "<Figure size 432x288 with 1 Axes>"
      ]
     },
     "metadata": {
      "needs_background": "light"
     },
     "output_type": "display_data"
    }
   ],
   "source": [
    "residual_scatter_plot = plt.plot(dataset['RM'], normalized_residuals,'bp')\n",
    "mean_residual = plt.plot([int(x_range[0]),round(x_range[1],0)], [0,0], '-', color='red', linewidth=2)\n",
    "upper_bound = plt.plot([int(x_range[0]),round(x_range[1],0)], [3,3], '--', color='red', linewidth=1)\n",
    "lower_bound = plt.plot([int(x_range[0]),round(x_range[1],0)], [-3,-3], '--', color='red', linewidth=1)\n",
    "plt.grid();"
   ]
  },
  {
   "cell_type": "markdown",
   "metadata": {},
   "source": [
    "The resulting scatterplot indicates that the residuals show some of the problems we previously indicated as a warning that something is not going well with your regression analysis. First, there are a few points lying outside the band delimited by the two dotted lines at normalized residual values −3 and +3 (a range that should hypothetically cover 99.7% of values if the residuals have a normal distribution). These are surely influential points with large errors and they can actually make the entire linear regression under-perform. \n",
    "\n",
    "Then, the cloud of points is not at all randomly scattered, showing different variances at different values of the predictor variable (the abscissa axis) and you can spot unexpected patterns (points in a straight line, or the core points placed in a kind of U shape).\n",
    "\n",
    "## Correlation is not causation\n",
    "\n",
    "Actually, seeing a correlation between your predictor and your target variable, and managing to model it successfully using a linear regression, doesn't really mean that there is a causal relation between the two (though your regression may work very well, and even optimally).\n",
    "\n",
    "We will tell you about six different reasons, and offer a cautionary word to help you handle such predictors without difficulty:\n",
    "\n",
    "**Direct causation**: x causes y; for instance, in the real estate business the value is directly proportional to the size of the house in square meters.\n",
    "\n",
    "**Reciprocal effects**: x causes y but it is also influenced by y. This is quite typical of many macro-economic dynamics where the effect of a policy augments or diminishes its effects. As an example in real estate, high crime rates in an area can lower its prices but lower prices mean that the area could quickly become even more degraded and dangerous.\n",
    "\n",
    "**Spurious causation**: This happens when the real cause is actually z, which causes both x and y; consequently it is just a fallacious illusion that x implies y because it is z behind the scenes. For instance, the presence of expensive art shops and galleries may seem to correlate with house prices; in reality, both are determined by the presence of affluent residents.\n",
    "\n",
    "**Indirect causation**: x in reality is not causing y but it is causing something else, which then causes y. A good municipality investing in infrastructures after higher taxes can indirectly affect house prices because the area becomes more comfortable to live in, thus attracting more demand. Higher taxes, and thus more investments, indirectly affect house prices.\n",
    "\n",
    "**Conditional effect**: x causes y in respect of the values of another variable z; for instance, when z has certain values x is not influencing y but, when z takes particular values, the x starts impacting y. We also call this situation interaction. For instance the presence of schools in an area can become an attractor when the crime rate is low, so it affects house prices only when there is little criminality.\n",
    "\n",
    "**Random effect**: Any recorded correlation between x and y has been due to a lucky sampling selection; in reality there is no relationship with y at all.\n",
    "\n"
   ]
  }
 ],
 "metadata": {
  "kernelspec": {
   "display_name": "Python 3",
   "language": "python",
   "name": "python3"
  },
  "language_info": {
   "codemirror_mode": {
    "name": "ipython",
    "version": 3
   },
   "file_extension": ".py",
   "mimetype": "text/x-python",
   "name": "python",
   "nbconvert_exporter": "python",
   "pygments_lexer": "ipython3",
   "version": "3.8.5"
  }
 },
 "nbformat": 4,
 "nbformat_minor": 2
}
