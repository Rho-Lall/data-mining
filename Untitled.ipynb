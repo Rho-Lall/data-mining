{
 "cells": [
  {
   "cell_type": "code",
   "execution_count": 2,
   "id": "baef2c49",
   "metadata": {},
   "outputs": [
    {
     "name": "stdout",
     "output_type": "stream",
     "text": [
      "measure: content_view {\n",
      "  type: sum\n",
      "  sql: $dim_content_view ;;\n",
      "}\n",
      "\n",
      "measure: content_view_1_day_click {\n",
      "  type: sum\n",
      "  sql: $dim_content_view_1_day_click ;;\n",
      "}\n",
      "\n",
      "measure: content_view_1_day_view {\n",
      "  type: sum\n",
      "  sql: $dim_content_view_1_day_view ;;\n",
      "}\n",
      "\n"
     ]
    }
   ],
   "source": [
    "import re\n",
    "\n",
    "# Sample text (replace this with your actual text)\n",
    "text = \"\"\"\n",
    "dimension: dim_content_view {\n",
    "    hidden: yes\n",
    "    type: number\n",
    "    sql: ${TABLE}.\"CONTENT_VIEW\" ;;\n",
    "  }\n",
    "\n",
    "  dimension: dim_content_view_1_day_click {\n",
    "    hidden: yes\n",
    "    type: number\n",
    "    sql: ${TABLE}.\"CONTENT_VIEW_1_DAY_CLICK\" ;;\n",
    "  }\n",
    "\n",
    "  dimension: dim_content_view_1_day_view {\n",
    "    hidden: yes\n",
    "    type: number\n",
    "    sql: ${TABLE}.\"CONTENT_VIEW_1_DAY_VIEW\" ;;\n",
    "  }\n",
    "\"\"\"\n",
    "\n",
    "# Regular expression pattern to match dimension parameter values\n",
    "pattern = r'dimension: (dim_[\\w_]+)'\n",
    "\n",
    "# Find all matches\n",
    "dimensions = re.findall(pattern, text)\n",
    "\n",
    "for dimension in dimensions:\n",
    "    name_without_dim = dimension.replace(\"dim_\", \"\")\n",
    "    print(f\"measure: {name_without_dim} {{\")\n",
    "    print(f\"  type: sum\")\n",
    "    print(f\"  sql: ${dimension} ;;\")\n",
    "    print(f\"}}\\n\")"
   ]
  }
 ],
 "metadata": {
  "kernelspec": {
   "display_name": "Python 3.8 (tensorflow)",
   "language": "python",
   "name": "tensorflow"
  },
  "language_info": {
   "codemirror_mode": {
    "name": "ipython",
    "version": 3
   },
   "file_extension": ".py",
   "mimetype": "text/x-python",
   "name": "python",
   "nbconvert_exporter": "python",
   "pygments_lexer": "ipython3",
   "version": "3.8.11"
  }
 },
 "nbformat": 4,
 "nbformat_minor": 5
}
