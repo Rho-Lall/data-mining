{
 "cells": [
  {
   "cell_type": "markdown",
   "metadata": {},
   "source": [
    "# Multiple Regression Analysis\n",
    "\n",
    "\n",
    "## Statistical Method (Test): Multiple Regression Analysis\n",
    "\n",
    "## Definition\n",
    "\n",
    "## Formula\n",
    "\n",
    "## Calculation Steps\n",
    "\n",
    "## Input Values\n",
    "\n",
    "## Output Values\n",
    "\n",
    "## Interpretation of the Output (how to determine significance)\n",
    "\n",
    "### Regression Parameters\n",
    "\n",
    "### Residual Standard Errors\n",
    "**regression residual:** $e_i = Y_i - \\hat{Y}$\n",
    "\n",
    "**residual sum of squares:** $\\displaystyle\\sum_{i = 1}^n (Y_i - \\hat{Y})^2$\n",
    "* Other Names\n",
    "    * Sum of Squared Residuals for the Sample\n",
    "    * SSE\n",
    "    \n",
    "**residual degrees of freedom:** $n - p$\n",
    "* p: # of regression parameters\n",
    "* aka - error degrees of freedom\n",
    "\n",
    "## The Value of the Method\n",
    "\n",
    "### When to use it\n",
    "\n",
    "### How is it different from other methods\n"
   ]
  },
  {
   "cell_type": "code",
   "execution_count": null,
   "metadata": {},
   "outputs": [],
   "source": []
  }
 ],
 "metadata": {
  "kernelspec": {
   "display_name": "Python 3",
   "language": "python",
   "name": "python3"
  },
  "language_info": {
   "codemirror_mode": {
    "name": "ipython",
    "version": 3
   },
   "file_extension": ".py",
   "mimetype": "text/x-python",
   "name": "python",
   "nbconvert_exporter": "python",
   "pygments_lexer": "ipython3",
   "version": "3.7.3"
  }
 },
 "nbformat": 4,
 "nbformat_minor": 2
}
