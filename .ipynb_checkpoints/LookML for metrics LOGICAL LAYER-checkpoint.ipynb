{
 "cells": [
  {
   "cell_type": "markdown",
   "id": "6f8983c4",
   "metadata": {},
   "source": [
    "# LookML for Refinement Layers\n",
    "\n",
    "\n",
    "Stage One - Write the body code for each file.\n",
    "Stage Two - Generate a full script for each refinement layer as well as the explore.\n",
    "Stage Three - Generate the files with file names.\n",
    "Stage Four - Fully automate the process of creating files in Github.\n"
   ]
  },
  {
   "cell_type": "code",
   "execution_count": 6,
   "id": "03a8b1df",
   "metadata": {},
   "outputs": [
    {
     "name": "stdout",
     "output_type": "stream",
     "text": [
      "marketing_aop_actuals\n"
     ]
    }
   ],
   "source": [
    "# Name this model\n",
    "# i.e. datagrid.marketing_dm.impact_partner_performance_report\n",
    "view_name = \"marketing_aop_actuals\"\n",
    "print(view_name)"
   ]
  },
  {
   "cell_type": "code",
   "execution_count": 1,
   "id": "2854234c",
   "metadata": {},
   "outputs": [
    {
     "name": "stdout",
     "output_type": "stream",
     "text": [
      "\n",
      "\n",
      "  dimension: ad_week {\n",
      "    description: \"\"\n",
      "    type: date_week\n",
      "    hidden: yes\n",
      "  }\n",
      "  dimension: spend {\n",
      "    group_label: \"Spend\"\n",
      "    description: \"\"\n",
      "    value_format: \"$#,##0\"\n",
      "    type: number\n",
      "    hidden: yes\n",
      "  }\n",
      "  dimension: search_spend {\n",
      "    group_label: \"Spend\"\n",
      "    description: \"\"\n",
      "    value_format: \"$#,##0\"\n",
      "    type: number\n",
      "    hidden: yes\n",
      "  }\n",
      "  dimension: social_spend {\n",
      "    group_label: \"Spend\"\n",
      "    description: \"\"\n",
      "    value_format: \"$#,##0\"\n",
      "    type: number\n",
      "    hidden: yes\n",
      "  }\n",
      "  dimension: marketplace_spend {\n",
      "    group_label: \"Spend\"\n",
      "    description: \"\"\n",
      "    value_format: \"$#,##0\"\n",
      "    type: number\n",
      "    hidden: yes\n",
      "  }\n",
      "\n",
      "\n",
      "\n"
     ]
    }
   ],
   "source": [
    "# Paste in the dimensions from your raw lookML code.\n",
    "text = \"\"\"\n",
    "\n",
    "  dimension: ad_week {\n",
    "    description: \"\"\n",
    "    type: date_week\n",
    "    hidden: yes\n",
    "  }\n",
    "  dimension: spend {\n",
    "    group_label: \"Spend\"\n",
    "    description: \"\"\n",
    "    value_format: \"$#,##0\"\n",
    "    type: number\n",
    "    hidden: yes\n",
    "  }\n",
    "  dimension: search_spend {\n",
    "    group_label: \"Spend\"\n",
    "    description: \"\"\n",
    "    value_format: \"$#,##0\"\n",
    "    type: number\n",
    "    hidden: yes\n",
    "  }\n",
    "  dimension: social_spend {\n",
    "    group_label: \"Spend\"\n",
    "    description: \"\"\n",
    "    value_format: \"$#,##0\"\n",
    "    type: number\n",
    "    hidden: yes\n",
    "  }\n",
    "  dimension: marketplace_spend {\n",
    "    group_label: \"Spend\"\n",
    "    description: \"\"\n",
    "    value_format: \"$#,##0\"\n",
    "    type: number\n",
    "    hidden: yes\n",
    "  }\n",
    "\n",
    "\n",
    "\"\"\"\n",
    "\n",
    "print(text)"
   ]
  },
  {
   "cell_type": "code",
   "execution_count": 3,
   "id": "bec71df4",
   "metadata": {},
   "outputs": [
    {
     "name": "stdout",
     "output_type": "stream",
     "text": [
      "String dimensions: 0\n",
      "Boolean dimensions: 0\n",
      "Number dimensions: 4\n",
      "Time dimensions: 0\n"
     ]
    }
   ],
   "source": [
    "def parse_lookml(lookml_code):\n",
    "    dimensions_string = []\n",
    "    dimensions_number = []\n",
    "    dimensions_time = []\n",
    "    dimensions_boolean = []\n",
    "\n",
    "    lines = lookml_code.split('\\n')\n",
    "    for line in lines:\n",
    "        if line.strip().startswith('dimension'):\n",
    "            dimension_name = line.split(':')[1].strip().split('{')[0].strip()  # Remove \" {\" at the end\n",
    "            type_line = next(l for l in lines[lines.index(line):] if 'type:' in l)\n",
    "            dimension_type = type_line.split(':')[1].strip()\n",
    "            if dimension_type == 'string':\n",
    "                dimensions_string.append(dimension_name)\n",
    "            elif '_id' in dimension_name:\n",
    "                dimensions_string.append(dimension_name)\n",
    "            elif dimension_type == 'number':\n",
    "                dimensions_number.append(dimension_name)\n",
    "            elif dimension_type == 'time':\n",
    "                dimensions_time.append(dimension_name)\n",
    "            elif dimension_type == 'yesno':\n",
    "                dimensions_boolean.append(dimension_name)\n",
    "\n",
    "    return dimensions_string, dimensions_number, dimensions_time, dimensions_boolean\n",
    "\n",
    "\n",
    "strings, numbers, times, booleans = parse_lookml(text)\n",
    "\n",
    "print(\"String dimensions:\", len(strings))\n",
    "print(\"Boolean dimensions:\", len(booleans))\n",
    "print(\"Number dimensions:\", len(numbers))\n",
    "print(\"Time dimensions:\", len(times))\n"
   ]
  },
  {
   "cell_type": "code",
   "execution_count": null,
   "id": "a2520382",
   "metadata": {},
   "outputs": [],
   "source": [
    "strings"
   ]
  },
  {
   "cell_type": "code",
   "execution_count": null,
   "id": "017a7897",
   "metadata": {},
   "outputs": [],
   "source": [
    "booleans"
   ]
  },
  {
   "cell_type": "code",
   "execution_count": 4,
   "id": "57e634e1",
   "metadata": {},
   "outputs": [
    {
     "data": {
      "text/plain": [
       "['spend', 'search_spend', 'social_spend', 'marketplace_spend']"
      ]
     },
     "execution_count": 4,
     "metadata": {},
     "output_type": "execute_result"
    }
   ],
   "source": [
    "numbers"
   ]
  },
  {
   "cell_type": "code",
   "execution_count": null,
   "id": "b3a95d65",
   "metadata": {},
   "outputs": [],
   "source": [
    "times"
   ]
  },
  {
   "cell_type": "code",
   "execution_count": 7,
   "id": "24c9fd05",
   "metadata": {},
   "outputs": [
    {
     "name": "stdout",
     "output_type": "stream",
     "text": [
      "marketing_aop_actuals.functional\n"
     ]
    }
   ],
   "source": [
    "# create functional layer filename\n",
    "print(view_name + '.functional')\n"
   ]
  },
  {
   "cell_type": "code",
   "execution_count": 8,
   "id": "fc4620ba",
   "metadata": {},
   "outputs": [
    {
     "name": "stdout",
     "output_type": "stream",
     "text": [
      "include: \"/1_raw/marketing_aop_actuals.view\"\n",
      "\n",
      "view: +marketing_aop_actuals {\n",
      "\n",
      "}\n"
     ]
    }
   ],
   "source": [
    "# create functional view file\n",
    "\n",
    "def format_string(view_name):\n",
    "    return f'''include: \"/1_raw/{view_name}.view\"\n",
    "\n",
    "view: +{view_name} {{\n",
    "\n",
    "}}'''\n",
    "\n",
    "formatted_string = format_string(view_name)\n",
    "print(formatted_string)"
   ]
  },
  {
   "cell_type": "code",
   "execution_count": null,
   "id": "fe91cbed",
   "metadata": {},
   "outputs": [],
   "source": [
    "## Set Primary Key\n",
    "\n",
    "def set_primary_key(list1, list2):\n",
    "    looml = \"## PRIMARY KEY\\n\\n\"\n",
    "    for item in list1 + list2:            \n",
    "            if \"sk\" in item.lower():\n",
    "                looml += f\"dimension: {item} {{\\n\"\n",
    "                looml += \"    primary_key: yes\\n\"\n",
    "                looml += \"}\\n\"\n",
    "                looml += \"\\n\"\n",
    "    return looml\n",
    "\n",
    "# Example lists\n",
    "\n",
    "result = set_primary_key(strings, numbers)\n",
    "print(result)\n",
    "\n"
   ]
  },
  {
   "cell_type": "code",
   "execution_count": 9,
   "id": "d2e0223a",
   "metadata": {},
   "outputs": [
    {
     "name": "stdout",
     "output_type": "stream",
     "text": [
      "## BASIC METRICS\n",
      "\n",
      "measure: total_spend {\n",
      "  type: sum\n",
      "  sql: ${spend} ;;\n",
      "}\n",
      "\n",
      "measure: total_search_spend {\n",
      "  type: sum\n",
      "  sql: ${search_spend} ;;\n",
      "}\n",
      "\n",
      "measure: total_social_spend {\n",
      "  type: sum\n",
      "  sql: ${social_spend} ;;\n",
      "}\n",
      "\n",
      "measure: total_marketplace_spend {\n",
      "  type: sum\n",
      "  sql: ${marketplace_spend} ;;\n",
      "}\n",
      "\n",
      "\n"
     ]
    }
   ],
   "source": [
    "# create metrics\n",
    "def generate_measure_lookml(names):\n",
    "    lookml_code = '## BASIC METRICS\\n\\n'\n",
    "    for name in names:\n",
    "        lookml_code += f'measure: total_{name} {{\\n'\n",
    "        lookml_code += '  type: sum\\n'\n",
    "        lookml_code += f'  sql: ${{{name}}} ;;\\n'\n",
    "        lookml_code += '}\\n\\n'\n",
    "    return lookml_code\n",
    "\n",
    "generated_lookml = generate_measure_lookml(numbers)\n",
    "print(generated_lookml)"
   ]
  },
  {
   "cell_type": "code",
   "execution_count": null,
   "id": "9e948493",
   "metadata": {},
   "outputs": [],
   "source": [
    "# create logical layer filename\n",
    "print(view_name + '.logic')"
   ]
  },
  {
   "cell_type": "code",
   "execution_count": null,
   "id": "fa2e4e6f",
   "metadata": {},
   "outputs": [],
   "source": [
    "# create logical view file\n",
    "\n",
    "def format_string(view_name):\n",
    "    return f'''include: \"/2_functional/{view_name}.functional.view\"\n",
    "\n",
    "view: +{view_name} {{\n",
    "\n",
    "}}'''\n",
    "\n",
    "formatted_string = format_string(view_name)\n",
    "print(formatted_string)"
   ]
  },
  {
   "cell_type": "code",
   "execution_count": null,
   "id": "c423bdc1",
   "metadata": {},
   "outputs": [],
   "source": [
    "# create visual layer filename\n",
    "print(view_name + '.visual')"
   ]
  },
  {
   "cell_type": "code",
   "execution_count": null,
   "id": "9b209e9a",
   "metadata": {},
   "outputs": [],
   "source": [
    "# create visual view file\n",
    "\n",
    "def format_string(view_name):\n",
    "    return f'''include: \"/3_logic_layer/{view_name}.logic.view\"\n",
    "\n",
    "view: +{view_name} {{\n",
    "\n",
    "}}'''\n",
    "\n",
    "formatted_string = format_string(view_name)\n",
    "print(formatted_string)"
   ]
  },
  {
   "cell_type": "code",
   "execution_count": null,
   "id": "9ac00dda",
   "metadata": {},
   "outputs": [],
   "source": [
    "## HIDE Primary Key & IDs\n",
    "\n",
    "def hide_fields(list1, list2):\n",
    "    looml = \"\\n\\n## PRIMARY KEY & IDs \\n\\n\"\n",
    "    for item in list1 + list2:\n",
    "        if \"_id\" in item.lower() or \"sk\" in item.lower() or \"related_tranid\" in item.lower():\n",
    "            looml += f\"dimension: {item} {{\\n    hidden: yes\\n\"\n",
    "            looml += \"}\\n\"\n",
    "            looml += \"\\n\"\n",
    "    return looml\n",
    "\n",
    "# Example lists\n",
    "\n",
    "result = hide_fields(strings, numbers)\n",
    "print(result)\n",
    "\n"
   ]
  },
  {
   "cell_type": "code",
   "execution_count": null,
   "id": "2db1554e",
   "metadata": {},
   "outputs": [],
   "source": [
    "## HIDE Dimensions for Metrics\n",
    "\n",
    "def hide_fields(list1):\n",
    "    looml = \"\\n\\n## HIDDEN DIMENSIONS for METRICS \\n\\n\"\n",
    "    for item in list1:\n",
    "            looml += f\"dimension: {item} {{\\n    hidden: yes\\n\"\n",
    "            looml += \"}\\n\"\n",
    "            looml += \"\\n\"\n",
    "    return looml\n",
    "\n",
    "# Example lists\n",
    "\n",
    "result = hide_fields(numbers)\n",
    "print(result)"
   ]
  },
  {
   "cell_type": "code",
   "execution_count": null,
   "id": "7449d064",
   "metadata": {},
   "outputs": [],
   "source": [
    "# METRICS FORMATING\n",
    "def generate_measure_lookml(names):\n",
    "    lookml_code = '\\n\\n## METRICS\\n\\n'\n",
    "    conditions = ['spend', 'revenue', 'cost', 'sales', 'asp', 'discount', 'roas']\n",
    "    for name in names:\n",
    "        # Set label and value format based on conditions\n",
    "\n",
    "        if any(condition in name.lower() for condition in conditions):\n",
    "            label = name.replace('_', ' ').title()  # Replace _ with space and make it proper case\n",
    "            value_format = '\"$#,##0\"'\n",
    "        else:\n",
    "            label = name.replace('_', ' ').title()  # Replace _ with space and make it proper case\n",
    "            value_format = '\"#,##0\"'\n",
    "\n",
    "        lookml_code += f'measure: total_{name} {{\\n'\n",
    "        lookml_code += f'  label: \"{label}\"\\n'\n",
    "        lookml_code += f'  value_format: {value_format}\\n'\n",
    "        lookml_code += '}\\n\\n'\n",
    "    return lookml_code\n",
    "\n",
    "generated_lookml = generate_measure_lookml(numbers)\n",
    "print(generated_lookml)"
   ]
  },
  {
   "cell_type": "code",
   "execution_count": null,
   "id": "054d286e",
   "metadata": {},
   "outputs": [],
   "source": [
    "## Date Formating\n",
    "\n",
    "def generate_lookml(names):\n",
    "    \n",
    "    lookml_code = '\\n\\n## DATES & TIMES\\n\\n'\n",
    "    \n",
    "    for name in names:\n",
    "        lookml_code += f'dimension_group: {name} {{\\n'\n",
    "        lookml_code += '  group_label: \"Date\"\\n'\n",
    "        lookml_code += '  label: \"\"\\n'\n",
    "        lookml_code += '}\\n\\n'\n",
    "    return lookml_code\n",
    "\n",
    "generated_lookml = generate_lookml(times)\n",
    "print(generated_lookml)\n"
   ]
  },
  {
   "cell_type": "code",
   "execution_count": null,
   "id": "55f51730",
   "metadata": {},
   "outputs": [],
   "source": [
    "# create Explore file\n",
    "print(view_name + '.explore')"
   ]
  },
  {
   "cell_type": "code",
   "execution_count": null,
   "id": "e1de328d",
   "metadata": {},
   "outputs": [],
   "source": [
    "## Generate Explore lookML\n",
    "lookML_code = \"\"\n",
    "explore_label = ' '.join(word.capitalize() for word in view_name.split('_'))\n",
    "\n",
    "lookML_code += f'include: \"/3_visual/{view_name}.visual.view\"\\n\\n'\n",
    "lookML_code += f'explore: {view_name} {{\\n'\n",
    "lookML_code += f'   from: {view_name}\\n'\n",
    "lookML_code += f'   label: \"{explore_label}\"\\n'\n",
    "lookML_code += f'   group_label: \"Marketing\"\\n'\n",
    "lookML_code += f'}}'\n",
    "\n",
    "print(lookML_code)"
   ]
  },
  {
   "cell_type": "code",
   "execution_count": null,
   "id": "d4df0364",
   "metadata": {},
   "outputs": [],
   "source": [
    "## Commit Code\n",
    "print(f'Deploy {explore_label} Explore into production.')"
   ]
  }
 ],
 "metadata": {
  "kernelspec": {
   "display_name": "Python 3.8 (tensorflow)",
   "language": "python",
   "name": "tensorflow"
  },
  "language_info": {
   "codemirror_mode": {
    "name": "ipython",
    "version": 3
   },
   "file_extension": ".py",
   "mimetype": "text/x-python",
   "name": "python",
   "nbconvert_exporter": "python",
   "pygments_lexer": "ipython3",
   "version": "3.8.11"
  }
 },
 "nbformat": 4,
 "nbformat_minor": 5
}
