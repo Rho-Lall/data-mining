{
 "cells": [
  {
   "cell_type": "markdown",
   "id": "6f8983c4",
   "metadata": {},
   "source": [
    "# LookML for Refinement Layers\n",
    "\n",
    "\n",
    "Stage One - Write the body code for each file.\n",
    "Stage Two - Generate a full script for each refinement layer as well as the explore.\n",
    "Stage Three - Generate the files with file names.\n",
    "Stage Four - Fully automate the process of creating files in Github.\n"
   ]
  },
  {
   "cell_type": "code",
   "execution_count": null,
   "id": "03a8b1df",
   "metadata": {},
   "outputs": [],
   "source": [
    "# Name this model\n",
    "\n",
    "view_name = \"\"\n",
    "print(view_name)"
   ]
  },
  {
   "cell_type": "code",
   "execution_count": null,
   "id": "2854234c",
   "metadata": {},
   "outputs": [],
   "source": [
    "# Paste in the dimensions from your raw lookML code.\n",
    "text = \"\"\"\n",
    "\n",
    "\n",
    "\"\"\"\n",
    "\n",
    "print(text)"
   ]
  },
  {
   "cell_type": "code",
   "execution_count": null,
   "id": "bec71df4",
   "metadata": {},
   "outputs": [],
   "source": [
    "def parse_lookml(lookml_code):\n",
    "    dimensions_string = []\n",
    "    dimensions_number = []\n",
    "    dimensions_time = []\n",
    "\n",
    "    lines = lookml_code.split('\\n')\n",
    "    for line in lines:\n",
    "        if line.strip().startswith('dimension'):\n",
    "            dimension_name = line.split(':')[1].strip().split('{')[0].strip()  # Remove \" {\" at the end\n",
    "            type_line = next(l for l in lines[lines.index(line):] if 'type:' in l)\n",
    "            dimension_type = type_line.split(':')[1].strip()\n",
    "            if dimension_type == 'string':\n",
    "                dimensions_string.append(dimension_name)\n",
    "            elif '_id' in dimension_name:\n",
    "                dimensions_string.append(dimension_name)\n",
    "            elif dimension_type == 'number':\n",
    "                dimensions_number.append(dimension_name)\n",
    "            elif dimension_type == 'time':\n",
    "                dimensions_time.append(dimension_name)\n",
    "\n",
    "    return dimensions_string, dimensions_number, dimensions_time\n",
    "\n",
    "\n",
    "strings, numbers, times = parse_lookml(text)\n",
    "\n",
    "print(\"String dimensions:\", strings)\n",
    "print(\"Number dimensions:\", numbers)\n",
    "print(\"Time dimensions:\", times)\n"
   ]
  },
  {
   "cell_type": "code",
   "execution_count": null,
   "id": "a2520382",
   "metadata": {},
   "outputs": [],
   "source": [
    "strings"
   ]
  },
  {
   "cell_type": "code",
   "execution_count": null,
   "id": "57e634e1",
   "metadata": {},
   "outputs": [],
   "source": [
    "numbers"
   ]
  },
  {
   "cell_type": "code",
   "execution_count": null,
   "id": "b3a95d65",
   "metadata": {},
   "outputs": [],
   "source": [
    "times"
   ]
  },
  {
   "cell_type": "code",
   "execution_count": null,
   "id": "82fd9e52",
   "metadata": {},
   "outputs": [],
   "source": [
    "len(numbers)"
   ]
  },
  {
   "cell_type": "code",
   "execution_count": null,
   "id": "043ef653",
   "metadata": {},
   "outputs": [],
   "source": [
    "len(strings)"
   ]
  },
  {
   "cell_type": "code",
   "execution_count": null,
   "id": "33eb3e8b",
   "metadata": {},
   "outputs": [],
   "source": [
    "len(times)"
   ]
  },
  {
   "cell_type": "code",
   "execution_count": null,
   "id": "09d3e60d",
   "metadata": {},
   "outputs": [],
   "source": [
    "# hide all the metric dimensions in the visual layer\n",
    "def generate_hide_lookml(names):\n",
    "    lookml_code = ''\n",
    "    for name in names:\n",
    "        lookml_code += f'dimension: {name} {{\\n'\n",
    "        lookml_code += '  hidden: yes\\n'\n",
    "        lookml_code += '}\\n\\n'\n",
    "    return lookml_code\n",
    "\n",
    "generated_lookml = generate_hide_lookml(numbers)\n",
    "print(generated_lookml)\n"
   ]
  },
  {
   "cell_type": "code",
   "execution_count": null,
   "id": "d2e0223a",
   "metadata": {},
   "outputs": [],
   "source": [
    "# create metrics\n",
    "def generate_measure_lookml(names):\n",
    "    lookml_code = ''\n",
    "    for name in names:\n",
    "        lookml_code += f'measure: total_{name} {{\\n'\n",
    "        lookml_code += '  type: sum\\n'\n",
    "        lookml_code += f'  sql: ${{{name}}} ;;\\n'\n",
    "        lookml_code += '}\\n\\n'\n",
    "    return lookml_code\n",
    "\n",
    "generated_lookml = generate_measure_lookml(numbers)\n",
    "print(generated_lookml)"
   ]
  },
  {
   "cell_type": "code",
   "execution_count": null,
   "id": "fe91cbed",
   "metadata": {},
   "outputs": [],
   "source": [
    "## HIDE IDs\n",
    "\n",
    "def hide_fields(list1, list2):\n",
    "    looml = \"\"\n",
    "    for item in list1 + list2:\n",
    "        if \"_id\" in item.lower() or \"sk\" in item.lower() or \"related_tranid\" in item.lower():\n",
    "            looml += f\"dimension: {item} {{\\n    hidden: yes\\n\"\n",
    "            if \"sk\" in item.lower():\n",
    "                looml += \"    primary_key: yes\\n\"\n",
    "            looml += \"}\\n\"\n",
    "            looml += \"\\n\"\n",
    "    return looml\n",
    "\n",
    "# Example lists\n",
    "\n",
    "result = hide_fields(strings, numbers)\n",
    "print(result)\n",
    "\n"
   ]
  },
  {
   "cell_type": "code",
   "execution_count": null,
   "id": "7449d064",
   "metadata": {},
   "outputs": [],
   "source": [
    "# METRICS FORMATING\n",
    "def generate_measure_lookml(names):\n",
    "    lookml_code = ''\n",
    "    for name in names:\n",
    "        # Set label and value format based on conditions\n",
    "        if 'spend' in name.lower() or 'revenue' in name.lower() or 'cost' in name.lower():\n",
    "            label = name.replace('_', ' ').title()  # Replace _ with space and make it proper case\n",
    "            value_format = '\"$#,##0\"'\n",
    "        else:\n",
    "            label = name.replace('_', ' ').title()  # Replace _ with space and make it proper case\n",
    "            value_format = '\"#,##0\"'\n",
    "\n",
    "        lookml_code += f'measure: total_{name} {{\\n'\n",
    "        lookml_code += f'  label: \"{label}\"\\n'\n",
    "        lookml_code += f'  value_format: {value_format}\\n'\n",
    "        lookml_code += '}\\n\\n'\n",
    "    return lookml_code\n",
    "\n",
    "generated_lookml = generate_measure_lookml(numbers)\n",
    "print(generated_lookml)"
   ]
  },
  {
   "cell_type": "code",
   "execution_count": null,
   "id": "054d286e",
   "metadata": {},
   "outputs": [],
   "source": [
    "## Date Formating\n",
    "\n",
    "  dimension_group: date {\n",
    "    group_label: \"Date\"\n",
    "    label: \"\"\n",
    "  }"
   ]
  },
  {
   "cell_type": "code",
   "execution_count": null,
   "id": "e1de328d",
   "metadata": {},
   "outputs": [],
   "source": [
    "## Generate Explore Code\n",
    "lookML_code = \"\"\n",
    "explore_name = view_name[len('obj_'):]\n",
    "explore_label = ' '.join(word.capitalize() for word in explore_name.split('_'))\n",
    "\n",
    "lookML_code += f'include: \"/3_visual/{view_name}.visual.view\"\\n\\n'\n",
    "lookML_code += f'explore: {explore_name} {{\\n'\n",
    "lookML_code += f'   from: {view_name}\\n'\n",
    "lookML_code += f'   label: \"{explore_label}\"\\n'\n",
    "lookML_code += f'   group_label: \"Marketing\"\\n'\n",
    "lookML_code += f'}}'\n",
    "\n",
    "print(lookML_code)"
   ]
  }
 ],
 "metadata": {
  "kernelspec": {
   "display_name": "Python 3.8 (tensorflow)",
   "language": "python",
   "name": "tensorflow"
  },
  "language_info": {
   "codemirror_mode": {
    "name": "ipython",
    "version": 3
   },
   "file_extension": ".py",
   "mimetype": "text/x-python",
   "name": "python",
   "nbconvert_exporter": "python",
   "pygments_lexer": "ipython3",
   "version": "3.8.11"
  }
 },
 "nbformat": 4,
 "nbformat_minor": 5
}
