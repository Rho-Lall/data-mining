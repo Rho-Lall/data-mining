{
 "cells": [
  {
   "attachments": {
    "image.png": {
     "image/png": "[encoded data removed]"
    }
   },
   "cell_type": "markdown",
   "metadata": {},
   "source": [
    "![image.png](attachment:image.png)"
   ]
  },
  {
   "cell_type": "markdown",
   "metadata": {},
   "source": [
    "**Time series data is omnipresent in the field of Data Science. Whether it is analyzing business trends, forecasting company revenue or exploring customer behavior, every data scientist is likely to encounter time series data at some point during their work. To get you started on working with time series data, this course will provide practical knowledge on visualizing time series data using Python.**\n",
    "\n",
    "# INTRODUCTION\n",
    "**You will learn how to leverage basic plottings tools in Python, and how to annotate and personalize your time series plots. By the end of this chapter, you will be able to take any static dataset and produce compelling plots of your data.**\n",
    "\n",
    "In this course, you will learn how to become an advanced user of time series visualization in the Python programming language. We expect you are comfortable with the basics of Python as covered in Intro to Python and Intermediate Python for Data Science courses on DataCamp.\n",
    "\n",
    "# 2. Plot Your First TimeSeries\n",
    "\n",
    "\n",
    "# 3. Customize Your TimeSeries Plots"
   ]
  },
  {
   "cell_type": "markdown",
   "metadata": {},
   "source": [
    "# SUMMARY STATISTICS & DIAGNOSTICS\n",
    "**In this chapter, you will gain a deeper understanding of your time series data by computing summary statistics and plotting aggregated views of your data.**\n",
    "\n",
    "# 1. Clean Your TimeSeries Data\n",
    "\n",
    "# 2. Plot Aggregates of Your Data\n",
    "\n",
    "# 3. Summarize the Values in Your TimeSeries Data"
   ]
  },
  {
   "cell_type": "markdown",
   "metadata": {},
   "source": [
    "# SEASONALITY, TREND & NOISE\n",
    "**You will go beyond summary statistics by learning about autocorrelation and partial autocorrelation plots. You will also learn how to automatically detect seasonality, trend and noise in your time series data.**\n",
    "\n",
    "# 1. AutoCorrelation & Partial AutoCorrelation\n",
    "\n",
    "# 2. Seasonality, Trend, & Noise in TimeSeries Data\n",
    "\n",
    "# 3. Review"
   ]
  },
  {
   "cell_type": "markdown",
   "metadata": {},
   "source": [
    "\n",
    "# WORK WITH MULTIPLE TIME SERIES\n",
    "**In the field of Data Science, it is common to be involved in projects where multiple time series need to be studied simultaneously. In this chapter, we will show you how to plot multiple time series at once, and how to discover and describe relationships between multiple time series.**\n",
    "\n",
    "# 1. Working with More Than One TimeSeries\n",
    "\n",
    "# 2. Plot Multiple TimeSeries\n",
    "\n",
    "# 3. Find Relationships Between Multiple TimeSeries"
   ]
  }
 ],
 "metadata": {
  "kernelspec": {
   "display_name": "Python 3",
   "language": "python",
   "name": "python3"
  },
  "language_info": {
   "codemirror_mode": {
    "name": "ipython",
    "version": 3
   },
   "file_extension": ".py",
   "mimetype": "text/x-python",
   "name": "python",
   "nbconvert_exporter": "python",
   "pygments_lexer": "ipython3",
   "version": "3.8.5"
  }
 },
 "nbformat": 4,
 "nbformat_minor": 4
}
